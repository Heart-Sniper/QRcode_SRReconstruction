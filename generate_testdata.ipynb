{
 "cells": [
  {
   "cell_type": "code",
   "execution_count": 1,
   "outputs": [],
   "source": [
    "params= {\n",
    "    \"qrcode_path\": r\"D:\\Project\\QRCodeClarityRestoration\\Dataset\\test_data\\QRcode\",\n",
    "    \"qrcode_number\": 2000,\n",
    "    \n",
    "    \"background_path\": r\"D:\\Project\\QRCodeClarityRestoration\\Dataset\\test_data\\background\",\n",
    "    \"background_number\": 2000,\n",
    "    \"background_color\": (255, 255, 255),\n",
    "    \"if_random\": False,\n",
    "    \"background_shape\": (512, 512),\n",
    "    \n",
    "    \"overridden_images_path\": r\"D:\\Project\\QRCodeClarityRestoration\\Dataset\\test_data\\overriden\",\n",
    "    \"processed_images_path\": r\"D:\\Project\\QRCodeClarityRestoration\\Dataset\\test_data\\processed\",\n",
    "}"
   ],
   "metadata": {
    "collapsed": false,
    "ExecuteTime": {
     "end_time": "2023-12-21T10:00:33.132813200Z",
     "start_time": "2023-12-21T10:00:33.112197500Z"
    }
   },
   "id": "cdd0a88d3414ce2c"
  },
  {
   "cell_type": "markdown",
   "source": [
    "============================================================\n",
    "## Generate QR code"
   ],
   "metadata": {
    "collapsed": false
   },
   "id": "1cebd78e9e521fda"
  },
  {
   "cell_type": "code",
   "execution_count": 2,
   "outputs": [
    {
     "name": "stderr",
     "output_type": "stream",
     "text": [
      "100%|██████████| 2000/2000 [00:11<00:00, 177.27it/s]\n",
      "100%|██████████| 2000/2000 [00:00<00:00, 4405.14it/s]\n"
     ]
    }
   ],
   "source": [
    "import imgprocess.qrcode_generator as qrcode\n",
    "# generate QRcode and solid color background image\n",
    "qrcode.generate_qrcode(params[\"qrcode_number\"], params[\"qrcode_path\"])\n",
    "qrcode.generate_background(params[\"background_number\"], \n",
    "                           params[\"background_color\"], \n",
    "                           params[\"background_shape\"], \n",
    "                           params[\"background_path\"],\n",
    "                           params[\"if_random\"])"
   ],
   "metadata": {
    "collapsed": false,
    "ExecuteTime": {
     "end_time": "2023-12-21T10:00:46.007155500Z",
     "start_time": "2023-12-21T10:00:33.115812200Z"
    }
   },
   "id": "902ddd928aea944e"
  },
  {
   "cell_type": "code",
   "execution_count": 3,
   "outputs": [
    {
     "name": "stderr",
     "output_type": "stream",
     "text": [
      "100%|██████████| 2000/2000 [00:04<00:00, 400.87it/s]\n"
     ]
    }
   ],
   "source": [
    "import imgprocess.overlay as overlay\n",
    "# overlay the QRcode onto the background image\n",
    "overlay.batch_overlay_random_backgrounds(params[\"qrcode_path\"], \n",
    "                                         params[\"background_path\"], \n",
    "                                         params[\"overridden_images_path\"])"
   ],
   "metadata": {
    "collapsed": false,
    "ExecuteTime": {
     "end_time": "2023-12-21T10:00:51.030128800Z",
     "start_time": "2023-12-21T10:00:46.005048800Z"
    }
   },
   "id": "236f32614750859"
  },
  {
   "cell_type": "markdown",
   "source": [
    "================================================\n",
    "## Generate images in batches"
   ],
   "metadata": {
    "collapsed": false
   },
   "id": "65c21d9a0e08be23"
  },
  {
   "cell_type": "code",
   "execution_count": null,
   "outputs": [],
   "source": [
    "import imgprocess\n",
    "imgprocess.batch_random_process(params[\"overridden_images_path\"], \n",
    "                                params[\"processed_images_path\"])"
   ],
   "metadata": {
    "collapsed": false,
    "is_executing": true
   },
   "id": "30f64908b6949315"
  },
  {
   "cell_type": "markdown",
   "source": [
    "================================================\n",
    "## Generate images Json"
   ],
   "metadata": {
    "collapsed": false
   },
   "id": "9a381ef65935053b"
  },
  {
   "cell_type": "markdown",
   "source": [
    "```json\n",
    "{\n",
    "\"x\":{\n",
    "  \"category\": \"\",\n",
    "  \"image\": {\n",
    "    \"file_path\": \"\",\n",
    "    \"pixel_size\": [],\n",
    "    },\n",
    "  \"thumbnail\":{\n",
    "    \"file_path\": \"\",\n",
    "    \"pixel_size\": [],\n",
    "}\n",
    "  }\n",
    "}\n",
    "```"
   ],
   "metadata": {
    "collapsed": false
   },
   "id": "4ce5a17fcfb4745a"
  },
  {
   "cell_type": "code",
   "execution_count": null,
   "outputs": [],
   "source": [],
   "metadata": {
    "collapsed": false,
    "is_executing": true
   },
   "id": "5a6f32ecb3236e62"
  },
  {
   "cell_type": "code",
   "execution_count": null,
   "outputs": [],
   "source": [],
   "metadata": {
    "collapsed": false
   },
   "id": "b496af2f5ea0971"
  }
 ],
 "metadata": {
  "kernelspec": {
   "name": "python3",
   "language": "python",
   "display_name": "QRcode (pytorch)"
  },
  "language_info": {
   "codemirror_mode": {
    "name": "ipython",
    "version": 2
   },
   "file_extension": ".py",
   "mimetype": "text/x-python",
   "name": "python",
   "nbconvert_exporter": "python",
   "pygments_lexer": "ipython2",
   "version": "2.7.6"
  }
 },
 "nbformat": 4,
 "nbformat_minor": 5
}
